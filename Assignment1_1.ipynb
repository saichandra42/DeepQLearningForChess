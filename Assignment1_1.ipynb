{
  "cells": [
    {
      "cell_type": "markdown",
      "metadata": {
        "id": "view-in-github",
        "colab_type": "text"
      },
      "source": [
        "<a href=\"https://colab.research.google.com/github/saichandra42/DeepQLearningForChess/blob/main/Assignment1_1.ipynb\" target=\"_parent\"><img src=\"https://colab.research.google.com/assets/colab-badge.svg\" alt=\"Open In Colab\"/></a>"
      ]
    },
    {
      "cell_type": "markdown",
      "metadata": {
        "id": "sHC-2WNaYkyV"
      },
      "source": [
        "\"I (Sai Chandra Rachiraju) certify that the code and data in this assignment were generated independently, using only the tools and resources defined in the course and that I/we did not receive any external help, coaching or contributions during the production of this work.\""
      ]
    },
    {
      "cell_type": "code",
      "execution_count": null,
      "metadata": {
        "colab": {
          "base_uri": "https://localhost:8080/"
        },
        "id": "rhFFUNPzHalr",
        "outputId": "221ccdfa-4479-4cd9-c4aa-6e1235b89f4c"
      },
      "outputs": [
        {
          "name": "stdout",
          "output_type": "stream",
          "text": [
            "Requirement already satisfied: gym in /usr/local/lib/python3.7/dist-packages (0.17.3)\n",
            "Requirement already satisfied: pyglet<=1.5.0,>=1.4.0 in /usr/local/lib/python3.7/dist-packages (from gym) (1.5.0)\n",
            "Requirement already satisfied: cloudpickle<1.7.0,>=1.2.0 in /usr/local/lib/python3.7/dist-packages (from gym) (1.3.0)\n",
            "Requirement already satisfied: scipy in /usr/local/lib/python3.7/dist-packages (from gym) (1.4.1)\n",
            "Requirement already satisfied: numpy>=1.10.4 in /usr/local/lib/python3.7/dist-packages (from gym) (1.21.5)\n",
            "Requirement already satisfied: future in /usr/local/lib/python3.7/dist-packages (from pyglet<=1.5.0,>=1.4.0->gym) (0.16.0)\n"
          ]
        }
      ],
      "source": [
        "%pip install gym"
      ]
    },
    {
      "cell_type": "code",
      "execution_count": null,
      "metadata": {
        "colab": {
          "base_uri": "https://localhost:8080/"
        },
        "id": "AhHmraco3bU7",
        "outputId": "62bb6723-7cae-4533-9911-5e4f11815cce"
      },
      "outputs": [
        {
          "name": "stdout",
          "output_type": "stream",
          "text": [
            "Requirement already satisfied: tabulate in /usr/local/lib/python3.7/dist-packages (0.8.9)\n"
          ]
        }
      ],
      "source": [
        "%pip install tabulate"
      ]
    },
    {
      "cell_type": "code",
      "execution_count": null,
      "metadata": {
        "colab": {
          "base_uri": "https://localhost:8080/"
        },
        "id": "T-qMRTiWnECo",
        "outputId": "4d49e28d-c6ae-4527-c7b3-1d23e51e23c1"
      },
      "outputs": [
        {
          "name": "stdout",
          "output_type": "stream",
          "text": [
            "Requirement already satisfied: tqdm in /usr/local/lib/python3.7/dist-packages (4.63.0)\n"
          ]
        }
      ],
      "source": [
        "% pip install tqdm"
      ]
    },
    {
      "cell_type": "code",
      "execution_count": null,
      "metadata": {
        "id": "4FjpuICtHe_c"
      },
      "outputs": [],
      "source": [
        "import gym\n",
        "import numpy as np\n",
        "import matplotlib.pyplot as plt\n",
        "import random\n",
        "\n",
        "from tqdm import tqdm\n",
        "from gym import spaces\n",
        "from tabulate import tabulate"
      ]
    },
    {
      "cell_type": "code",
      "execution_count": null,
      "metadata": {
        "id": "DGntfVfjHjnt"
      },
      "outputs": [],
      "source": [
        "class Chess(gym.Env):\n",
        "  def __init__(self,size,hyper_params = {}):\n",
        "    self.size = size\n",
        "    self.possible_actions = 8\n",
        "    self.observation_space = spaces.MultiDiscrete([ size, size ])\n",
        "    self.q_table = np.zeros((size*size,self.possible_actions))\n",
        "    self.action_space = spaces.MultiDiscrete(self.possible_actions)\n",
        "    self.rewards = []\n",
        "    self.decay = []\n",
        "\n",
        "    # State map\n",
        "    self.stateMap = {}\n",
        "    for i in range(0,self.size):\n",
        "        for j in range(0,self.size):\n",
        "            key=str(i)+str(j)\n",
        "            self.stateMap[key] = None\n",
        "            \n",
        "    for index,element in enumerate(self.stateMap.keys()):\n",
        "        self.stateMap[element] = index\n",
        "\n",
        "    # Parameters of the model\n",
        "    self.agent_current_pos = self.observation_space.sample()\n",
        "    #self.target_pos = self.observation_space.sample()\n",
        "    self.target_pos = [0,0]\n",
        "\n",
        "    # Hyperparameters of this model\n",
        "    self.total_episodes = hyper_params.get('total_episodes',100)\n",
        "    self.learning_rate = hyper_params.get('learning_rate',0.01)\n",
        "    self.max_steps = hyper_params.get('max_steps',100)\n",
        "    self.gamma = hyper_params.get('gamma',0.95)\n",
        "    self.epsilon = hyper_params.get('epsilon',0.7)\n",
        "    self.bypass = hyper_params.get('bypass',False)\n",
        "\n",
        "  def manhattanDistance(self,currentPosition,targetPosition):\n",
        "    [x,y] = currentPosition\n",
        "    [target_x,target_y] = targetPosition\n",
        "    distance = np.sum(np.abs(np.array([target_x - x,target_y-y])))\n",
        "    return distance\n",
        "\n",
        "  def step(self,action = 0):\n",
        "    before_action = self.agent_current_pos\n",
        "    [x,y] = self.agent_current_pos\n",
        "    [target_x,target_y] = self.target_pos\n",
        "        \n",
        "    if action == 0 and x <=6 and y<=5:\n",
        "      # Go one step right and two steps up\n",
        "      self.agent_current_pos[0] += 1\n",
        "      self.agent_current_pos[1] += 2\n",
        "      \n",
        "    elif action == 1 and x<=6 and y>= 2:\n",
        "      # Go one step right and two steps down\n",
        "      self.agent_current_pos[0] += 1\n",
        "      self.agent_current_pos[1] -= 2\n",
        "\n",
        "    elif action == 2 and x<=6 and y<=5:\n",
        "      # Go two steps right and one step up\n",
        "      self.agent_current_pos[0] += 2\n",
        "      self.agent_current_pos[1] += 1\n",
        "\n",
        "    elif action == 3 and x<=6 and y>=1:\n",
        "      # Go two steps right and one step down\n",
        "      self.agent_current_pos[0] += 2\n",
        "      self.agent_current_pos[1] -= 1\n",
        "    \n",
        "    elif action == 4 and x>=1 and y<=5:\n",
        "      # Go one step left and two steps up\n",
        "      self.agent_current_pos[0] -= 1\n",
        "      self.agent_current_pos[1] += 2\n",
        "\n",
        "    elif action == 5 and x>=1 and y>=2:\n",
        "      # Go one step left and two steps down\n",
        "      self.agent_current_pos[0] -= 1\n",
        "      self.agent_current_pos[1] -= 2\n",
        "\n",
        "    elif action == 6 and x>=2 and y<=6:\n",
        "      # Go two steps left and one step up\n",
        "      self.agent_current_pos[0] -= 2\n",
        "      self.agent_current_pos[1] += 1\n",
        "\n",
        "    elif action == 7 and x>=2 and y>=1:\n",
        "      # Go two steps left and one step bottom\n",
        "      self.agent_current_pos[0] -= 2\n",
        "      self.agent_current_pos[1] -= 1\n",
        "\n",
        "    self.agent_current_pos = np.clip(self.agent_current_pos,a_min = 0,a_max = self.size-1)\n",
        "\n",
        "    # Defining 4 possible rewards\n",
        "    reward = 0\n",
        "    distance = self.manhattanDistance(self.agent_current_pos,self.target_pos)\n",
        "\n",
        "    # 8 possible actions (Knight in chess)\n",
        "    [x,y] = self.agent_current_pos\n",
        "    are_on_same_level = ((target_x == x) and (target_y !=  y)) or ((target_x != x) and (target_y == y))\n",
        "    [target_x,target_y] = self.target_pos\n",
        "    target_reached = np.all(self.agent_current_pos == self.target_pos)\n",
        "    no_action = np.all(before_action == self.agent_current_pos)\n",
        "\n",
        "    if distance == 0:\n",
        "      # On target\n",
        "      reward = 1\n",
        "    elif (not are_on_same_level & distance == 3):\n",
        "      # Nearing the target by 1 more move\n",
        "      reward = 0.5\n",
        "    elif (not are_on_same_level & distance == 2):\n",
        "      # Nearing the target by 2 more moves (on the same level)\n",
        "      reward = 0.2\n",
        "    elif distance == 1:\n",
        "      # Just beside the target, nearing in 3 moves\n",
        "      reward = 0.1\n",
        "    elif no_action:\n",
        "      # Is still away from target\n",
        "      reward = -1\n",
        "    else:\n",
        "      reward = 0\n",
        "    \n",
        "    \n",
        "    # Safety of the environment check\n",
        "    self.agent_current_pos = np.clip(self.agent_current_pos,a_min = 0,a_max = self.size-1)\n",
        "    new_state = self.positionToState(self.agent_current_pos)\n",
        "    target_state = self.positionToState(self.target_pos)\n",
        "      \n",
        "    action_dict = {\n",
        "        'new_state': new_state,\n",
        "        'reward': reward,\n",
        "        'done': (np.all(new_state == target_state)),\n",
        "        'distance': distance,\n",
        "        'info': {\n",
        "            'current_position': self.agent_current_pos,\n",
        "            'target_position': self.target_pos,\n",
        "            'action_index': action\n",
        "        }\n",
        "    }\n",
        "    return action_dict\n",
        "  \n",
        "  def positionToState(self,currentPosition):\n",
        "      [x,y] = currentPosition\n",
        "      return self.stateMap[str(x)+str(y)]\n",
        "\n",
        "  def reset(self):\n",
        "    self.agent_current_pos = self.observation_space.sample()\n",
        "    return self.positionToState(self.agent_current_pos)\n",
        "    #self.observation_space = spaces.MultiDiscrete([ self.size, self.size ])\n",
        "    #self.q_table = np.zeros((self.size*self.size,self.possible_actions))\n",
        "    #self.action_space = spaces.MultiDiscrete(self.possible_actions)\n",
        "  \n",
        "  def render(self):\n",
        "    [x_pos, y_pos] = self.agent_current_pos\n",
        "    # To distinguish from white and black spaces\n",
        "    rendering_env = np.zeros((self.size,self.size))\n",
        "    for row_index,row in enumerate(rendering_env):\n",
        "      for column_index,element in enumerate(row):\n",
        "        if (row_index+column_index)%2 == 0:\n",
        "          rendering_env[row_index][column_index] = 1\n",
        "\n",
        "    [x_target_pos, y_target_pos] = self.target_pos\n",
        "    plt.imshow(rendering_env,cmap = 'gray',interpolation='nearest')\n",
        "    plt.text(x_pos, y_pos, s = 'K', bbox=dict(fill=True, boxstyle='square',color='yellow'))\n",
        "    plt.text(x_target_pos, y_target_pos, s='T',bbox=dict(fill=True, boxstyle='square',color='green'))\n",
        "    plt.xticks(range(self.size))\n",
        "    plt.title(\"K=Knight and T=Target\")\n",
        "    plt.show()\n",
        "\n",
        "  def train(self):\n",
        "    loop = tqdm(enumerate(range(self.total_episodes)),total=self.total_episodes)\n",
        "    for _,episode in loop:\n",
        "        self.reset()\n",
        "        reward_per_episode = 0\n",
        "        counter = 1\n",
        "        state = self.positionToState(self.agent_current_pos)\n",
        "        done = False\n",
        "        while (not done) and (counter <= self.max_steps):\n",
        "          # Creating an explore/exploit scenario\n",
        "          cutoff = np.random.uniform(0,1)\n",
        "          action_to_be_taken = None\n",
        "\n",
        "          if cutoff > self.epsilon:\n",
        "              # Exploit by taking the best action in the table\n",
        "              # Once the values are done,then exploit\n",
        "              action_to_be_taken = np.argmax(self.q_table[state,:])\n",
        "          else:\n",
        "              # Explore the scenario\n",
        "              # Initially should explore\n",
        "              action_to_be_taken = np.random.randint(low=0,high=self.possible_actions)\n",
        "          \n",
        "          action_info = self.step(action_to_be_taken)\n",
        "          reward_received = action_info['reward']\n",
        "          reward_per_episode += reward_received\n",
        "          counter += 1\n",
        "          new_state = action_info.get('new_state',0)\n",
        "\n",
        "          #Updating the Q Table\n",
        "          current_q_value = self.q_table[state,action_to_be_taken]\n",
        "          max_q_value = np.max(self.q_table[new_state, :])\n",
        "          self.q_table[state, action_to_be_taken] = ((1-self.learning_rate) * current_q_value) + (self.learning_rate * (reward_received + self.gamma * max_q_value))\n",
        "        \n",
        "        self.epsilon = 0.01 + (1-0.01)* np.exp(-0.005 * episode)\n",
        "        self.decay.append(self.epsilon)\n",
        "        self.rewards.append(reward_per_episode)\n",
        "\n",
        "  def plot_reward(self):\n",
        "    plt.figure(figsize=(20,12))\n",
        "    plt.plot(self.rewards)  \n",
        "    plt.show()\n",
        "\n",
        "  def plot_decay(self):\n",
        "    plt.figure(figsize=(20,12))\n",
        "    plt.plot(self.decay)  \n",
        "    plt.show()\n",
        "\n",
        "  def show_table(self):\n",
        "    print(tabulate(self.q_table,headers=list(range(0,8)),tablefmt=\"pretty\",showindex=\"always\"))"
      ]
    },
    {
      "cell_type": "code",
      "execution_count": null,
      "metadata": {
        "id": "QBwlH8erIDeC"
      },
      "outputs": [],
      "source": [
        "params = {\n",
        "    \"total_episodes\": 10000,\n",
        "    \"learning_rate\": 0.05,\n",
        "    \"max_steps\": 200,\n",
        "    \"gamma\":0.95,\n",
        "    \"epsilon\": 1\n",
        "}\n",
        "chess = Chess(8,params)"
      ]
    },
    {
      "cell_type": "code",
      "execution_count": null,
      "metadata": {
        "colab": {
          "base_uri": "https://localhost:8080/"
        },
        "id": "O4UcI2poyPT5",
        "outputId": "28a85cde-2fd7-4b7c-d17a-f01f785dab6b"
      },
      "outputs": [
        {
          "data": {
            "text/plain": [
              "{'distance': 6,\n",
              " 'done': False,\n",
              " 'info': {'action_index': 4,\n",
              "  'current_position': array([0, 6]),\n",
              "  'target_position': [0, 0]},\n",
              " 'new_state': 6,\n",
              " 'reward': 0.5}"
            ]
          },
          "execution_count": 7,
          "metadata": {},
          "output_type": "execute_result"
        }
      ],
      "source": [
        "sample_action = chess.action_space.sample()\n",
        "chess.step(sample_action)"
      ]
    },
    {
      "cell_type": "code",
      "execution_count": null,
      "metadata": {
        "colab": {
          "background_save": true,
          "base_uri": "https://localhost:8080/"
        },
        "id": "meqsbqFlyQ-l",
        "outputId": "d510ecf1-6daa-402c-8a89-b7656f41f805"
      },
      "outputs": [
        {
          "name": "stderr",
          "output_type": "stream",
          "text": [
            "100%|██████████| 10000/10000 [04:57<00:00, 33.64it/s]\n"
          ]
        }
      ],
      "source": [
        "chess.train()"
      ]
    },
    {
      "cell_type": "code",
      "execution_count": null,
      "metadata": {
        "colab": {
          "background_save": true
        },
        "id": "_emYsZQp1SdC",
        "outputId": "e41aa1cf-d186-49c5-c645-46104c8c257b"
      },
      "outputs": [
        {
          "data": {
            "image/png": "[encoded data removed]",
            "text/plain": [
              "<Figure size 1440x864 with 1 Axes>"
            ]
          },
          "metadata": {},
          "output_type": "display_data"
        }
      ],
      "source": [
        "chess.plot_reward()"
      ]
    },
    {
      "cell_type": "code",
      "execution_count": null,
      "metadata": {
        "colab": {
          "background_save": true
        },
        "id": "M-EVPKM804nC"
      },
      "outputs": [],
      "source": [
        "#chess.plot_decay()"
      ]
    },
    {
      "cell_type": "code",
      "execution_count": null,
      "metadata": {
        "colab": {
          "background_save": true
        },
        "id": "Od7lDWUQFM6y"
      },
      "outputs": [],
      "source": [
        "#chess.show_table()"
      ]
    },
    {
      "cell_type": "markdown",
      "metadata": {
        "id": "D_d9oxxpDApL"
      },
      "source": [
        "# Deep Q Learning"
      ]
    },
    {
      "cell_type": "code",
      "execution_count": null,
      "metadata": {
        "colab": {
          "background_save": true
        },
        "id": "WrLHAu-5B1P1"
      },
      "outputs": [],
      "source": [
        "import torch as torch\n",
        "from torch.autograd import Variable"
      ]
    },
    {
      "cell_type": "code",
      "execution_count": null,
      "metadata": {
        "colab": {
          "background_save": true
        },
        "id": "IBBMWjRn_LfH"
      },
      "outputs": [],
      "source": [
        "params = {\n",
        "    \"total_episodes\": 2,\n",
        "    \"learning_rate\": 0.05,\n",
        "    \"max_steps\": 200,\n",
        "    \"gamma\":0.95,\n",
        "    \"epsilon\": 1\n",
        "}"
      ]
    },
    {
      "cell_type": "code",
      "execution_count": null,
      "metadata": {
        "colab": {
          "background_save": true
        },
        "id": "8cCSa8h34T80"
      },
      "outputs": [],
      "source": [
        "class DeepQNetwork(torch.nn.Module):\n",
        "    def __init__(self, state_dim, action_dim, hidden_dim = 16, lr=0.05):\n",
        "      super(DeepQNetwork,self).__init__()\n",
        "      self.state_dim = state_dim\n",
        "      self.action_dim = action_dim\n",
        "      self.criterion = torch.nn.MSELoss()\n",
        "      self.model = torch.nn.Sequential(\n",
        "                      torch.nn.Linear(state_dim, hidden_dim),\n",
        "                      torch.nn.LeakyReLU(),\n",
        "                      torch.nn.Linear(hidden_dim, hidden_dim*2),\n",
        "                      torch.nn.LeakyReLU(),\n",
        "                      torch.nn.Linear(hidden_dim*2, action_dim)\n",
        "              )\n",
        "      self.optimizer = torch.optim.Adam(self.model.parameters(), lr)\n",
        "\n",
        "    def update(self, state, y):\n",
        "      y_pred = self.model(torch.Tensor(state))\n",
        "      loss = self.criterion(y_pred, Variable(torch.Tensor(y)))\n",
        "      self.optimizer.zero_grad()\n",
        "      loss.backward()\n",
        "      self.optimizer.step()\n",
        "\n",
        "\n",
        "    def predict(self, state):\n",
        "      state_vector = np.zeros(self.state_dim)\n",
        "      with torch.no_grad():\n",
        "        return self.model(torch.Tensor(state_vector))"
      ]
    },
    {
      "cell_type": "code",
      "execution_count": null,
      "metadata": {
        "colab": {
          "background_save": true
        },
        "id": "8iTNJz_LCp4N"
      },
      "outputs": [],
      "source": [
        "network = DeepQNetwork(64,8)"
      ]
    },
    {
      "cell_type": "code",
      "execution_count": null,
      "metadata": {
        "colab": {
          "background_save": true
        },
        "id": "_w2sZPKMbwkb"
      },
      "outputs": [],
      "source": [
        "def deep_q_learning(env,model,learning_params={}):\n",
        "  n_episodes = learning_params.get('episodes',10)\n",
        "  epsilon = learning_params.get('epsilon',10)\n",
        "  replay = learning_params.get('replay',False)\n",
        "  gamma = learning_params.get('gamma',0.9)\n",
        "  replay_size = learning_params.get('replay_size',10)\n",
        "\n",
        "  loop = tqdm(enumerate(range(n_episodes)),total=n_episodes)\n",
        "  rewards = []\n",
        "  memory = []\n",
        "\n",
        "  for _,episode in loop:\n",
        "    done = False\n",
        "    state = env.reset()\n",
        "    episode_reward = 0\n",
        "    # State is a number from 0 to 63 to indicate 64 states of the board if size is 8\n",
        "    while not done:\n",
        "      cutoff = np.random.uniform(0,1)\n",
        "      if cutoff < epsilon:\n",
        "        # Taking a random action\n",
        "        action = chess.action_space.sample()\n",
        "      else:\n",
        "        # Exploit the environment \n",
        "        q_values = model.predict(state)\n",
        "        action = torch.argmax(q_values).item()\n",
        "      \n",
        "      action_dict = env.step(action)\n",
        "      next_state = action_dict.get(\"next_state\")\n",
        "      reward_received = action_dict.get(\"reward\")\n",
        "      done = action_dict.get(\"done\")\n",
        "      \n",
        "      episode_reward += reward_received\n",
        "      memory.append(action_dict)\n",
        "      q_values = model.predict(state).tolist()\n",
        "\n",
        "      # # If the knight reached the target\n",
        "      # if done:\n",
        "      #   pass\n",
        "      # else:\n",
        "      #   next_q_values = model.predict(next_state)\n",
        "      #   max_q_value = torch.max(next_q_values).item()\n",
        "      #   q_values[action] = reward_received + (gamma * max_q_value)\n",
        "\n",
        "    rewards.append(episode_reward)"
      ]
    },
    {
      "cell_type": "code",
      "execution_count": null,
      "metadata": {
        "colab": {
          "background_save": true
        },
        "id": "gVzeuKMOCuFQ"
      },
      "outputs": [],
      "source": [
        "learning_params = {\n",
        "    'episodes': 2,\n",
        "    'gamma': 0.9,\n",
        "    'epsilon': 0.5\n",
        "}"
      ]
    },
    {
      "cell_type": "code",
      "execution_count": null,
      "metadata": {
        "colab": {
          "background_save": true
        },
        "id": "RAL7pCNmccrc",
        "outputId": "883bc6ae-020a-4525-febc-dff273c4814b"
      },
      "outputs": [
        {
          "name": "stderr",
          "output_type": "stream",
          "text": [
            "100%|██████████| 2/2 [00:00<00:00, 16.15it/s]\n"
          ]
        }
      ],
      "source": [
        "deep_q_learning(chess,network,learning_params)"
      ]
    }
  ],
  "metadata": {
    "colab": {
      "collapsed_sections": [],
      "name": "Assignment1.1.ipynb",
      "provenance": [],
      "authorship_tag": "ABX9TyMoZlO4rPAXjSrlnfDIhd1F",
      "include_colab_link": true
    },
    "kernelspec": {
      "display_name": "Python 3",
      "name": "python3"
    },
    "language_info": {
      "name": "python"
    }
  },
  "nbformat": 4,
  "nbformat_minor": 0
}